{
 "cells": [
  {
   "cell_type": "code",
   "execution_count": 1,
   "metadata": {},
   "outputs": [],
   "source": [
    "import psycopg2, config\n",
    "import pandas as pd\n",
    "\n",
    "from wordcloud import WordCloud\n",
    "import matplotlib.pyplot as plt\n",
    "\n",
    "from PIL import Image\n",
    "import numpy as np\n",
    "\n",
    "from nltk.tokenize import word_tokenize\n",
    "from nltk.corpus import stopwords\n",
    "\n",
    "from collections import Counter\n",
    "import seaborn as sns\n",
    "\n",
    "from datetime import date"
   ]
  },
  {
   "cell_type": "code",
   "execution_count": 2,
   "metadata": {},
   "outputs": [],
   "source": [
    "def executeMining():\n",
    "    \n",
    "    # In[2]:\n",
    "    # Connexion à la BDD PG bdd_scantonnet et requêtage\n",
    "    \n",
    "    conn = psycopg2.connect(database=\"bdd_scantonnet\", user=config.user,password=config.password, host='127.0.0.1') \n",
    "    \n",
    "    sql = \"\"\"select jokes from \"chuckJokes\";\"\"\"\n",
    "    df = pd.read_sql_query(sql, conn)\n",
    "    \n",
    "    # In[3]:\n",
    "    # Tokenisation et traitement préalable de la liste des mots de chaque blague\n",
    "    \n",
    "    # On stocke toutes les blagues du df dans une string\n",
    "    text = \"\"\n",
    "    for comment in df.jokes : \n",
    "        text+=comment\n",
    "        text+=\" \"\n",
    "        \n",
    "    text = text.lower()\n",
    "    \n",
    "    # On définit la liste des stopwords (à ne pas prendre en compte)\n",
    "    stop_words = set(stopwords.words('english'))\n",
    "    addingStopWordsList = [\",\", \".\",\"'\",\"n't\",\"'s\",\"to\",\"of\",'and',\"with\",\"was\",\"?\",\"!\",'``',\"...\",\"''\"]\n",
    "    for mot in addingStopWordsList:\n",
    "        stop_words.add(mot)\n",
    "        \n",
    "    # On fait une liste qui sépare chacun des mots de la string text et exclue les stopwords\n",
    "    \n",
    "    text_tokenized = word_tokenize(text, language='english')\n",
    "    \n",
    "    tokens = []\n",
    "    for mot in text_tokenized:\n",
    "        if mot not in stop_words:\n",
    "            tokens.append(mot)\n",
    "    \n",
    "    # In[4]:\n",
    "    # Création du nuage de mots suivant une image\n",
    "    \n",
    "    def plot_word_cloud(txt, masque, background_color = \"black\") :\n",
    "        # Définir un masque\n",
    "        # mask_coloring = np.array(Image.open(str(masque)))\n",
    "        # from wordcloud import ImageColorGenerator\n",
    "        mask = np.array(Image.open(masque))\n",
    "        # img_color = ImageColorGenerator(mask)\n",
    "        \n",
    "        # Définir le calque du nuage des mots\n",
    "        wc = WordCloud(mask=mask, random_state=42, collocations=False,\n",
    "                  width=400, height=200, margin=2,\n",
    "                  ranks_only=None, prefer_horizontal=0.9,\n",
    "                  scale=1, color_func=None,\n",
    "                  max_words=1000,\n",
    "                  min_font_size=4, stopwords=stop_words,\n",
    "                  background_color='black',\n",
    "                  max_font_size=90, font_step=1, mode='RGB',\n",
    "                  relative_scaling=0.5, regexp=None, colormap=None, normalize_plurals=True)\n",
    "        \n",
    "        plt.figure(figsize= (15,10)) # Initialisation d'une figure\n",
    "        wc.generate(txt)           # \"Calcul\" du wordcloud\n",
    "        plt.imshow(wc) # Affichage\n",
    "        plt.show()\n",
    "      \n",
    "    plot_word_cloud(text, \"chuck2.jpg\")\n",
    "    \n",
    "    # # Code d'affichage du masque\n",
    "    # import matplotlib.image as mpimg\n",
    "    # img = mpimg.imread(\"chuck2.jpg\")\n",
    "    # plt.imshow(img)\n",
    "    # plt.show()\n",
    "    \n",
    "    # In[5]:\n",
    "    # Bar graphs des 15 mots les plus utilisés (avec et sans Chuck Norris)\n",
    "    dico = Counter(tokens)\n",
    "    dico.most_common(17)\n",
    "    \n",
    "    mots = [m[0] for m in dico.most_common(15)]\n",
    "    freq = [m[1] for m in dico.most_common(15)]\n",
    "    \n",
    "    plt.figure(figsize= (15,10))\n",
    "    sns.barplot(x=mots, y=freq)\n",
    "    plt.title('15 mots les plus fréquemment employés')\n",
    "    \n",
    "    #On retire les mots \"Chuck\" et \"Norris\" de la liste\n",
    "    \n",
    "    dico.pop(\"chuck\")\n",
    "    dico.pop(\"norris\")\n",
    "    mots = [m[0] for m in dico.most_common(15)]\n",
    "    freq = [m[1] for m in dico.most_common(15)]\n",
    "    \n",
    "    plt.figure(figsize= (15,10))\n",
    "    sns.barplot(x=mots, y=freq)\n",
    "    plt.title('15 mots les plus fréquemment employés excluant Chuck et Norris')\n",
    "    \n",
    "    print(\"TextMining done, check ur plots\")\n",
    "    conn.close()"
   ]
  },
  {
   "cell_type": "code",
   "execution_count": 3,
   "metadata": {},
   "outputs": [],
   "source": [
    "def executeReport():\n",
    "    conn = psycopg2.connect(database=\"bdd_scantonnet\", user=config.user,password=config.password, host='127.0.0.1') \n",
    "    cur = conn.cursor()\n",
    "    \n",
    "    cur.execute(\"\"\"SELECT COUNT(*) FROM \"chuckJokes\";\"\"\")\n",
    "    result = cur.fetchone()\n",
    "    today = date.today()\n",
    "    today = today.strftime(\"%d/%m/%Y\")\n",
    "    print(\"Il y a dans cette BDD {} blagues le {}\".format(result[0], today))\n",
    "    \n",
    "    sql = (\"\"\"SELECT \"chuckJokes\".jokes, \"chuckRating\".rating FROM \"chuckJokes\"\n",
    "                INNER JOIN \"chuckRating\" ON \"chuckJokes\".id = \"chuckRating\".id\n",
    "                WHERE rating >4\n",
    "                ORDER BY rating DESC;\"\"\")\n",
    "    df = pd.read_sql_query(sql, conn)\n",
    "    \n",
    "    nbBestJokes = (len(df.index))\n",
    "    print(\"Il y a {} blagues qui ont plus de 4/5\".format(nbBestJokes))\n",
    "    print(\"Voici les 5 meilleures : \")\n",
    "    print(df.head(5))"
   ]
  },
  {
   "cell_type": "code",
   "execution_count": 6,
   "metadata": {},
   "outputs": [],
   "source": [
    "def executeGraphs():\n",
    "    conn = psycopg2.connect(database=\"bdd_scantonnet\", user=config.user,password=config.password, host='127.0.0.1') \n",
    "    \n",
    "    # In[1]:\n",
    "    # Req1 : Répartition par note\n",
    "    sql = \"\"\"select rating from \"chuckRating\";\"\"\"\n",
    "    dfRatings = pd.read_sql_query(sql, conn)\n",
    "    # Description du df (vision globale)\n",
    "    print(dfRatings.describe())\n",
    "    \n",
    "    # \"Distplot\" --> Histogramme de distribution des notes\n",
    "    note_fig, note_ax = plt.subplots()\n",
    "    sns.distplot(a=dfRatings.rating)\n",
    "    \n",
    "    violon_fig, violon_ax = plt.subplots()\n",
    "    sns.violinplot(data=dfRatings, palette=\"Set3\", bw=.2, cut=1, linewidth=1)\n",
    "    \n",
    "    # In[2]:\n",
    "    # Req2 : \"Est-ce que les meilleures blagues sont les plus courtes ?\n",
    "        \n",
    "    sql = (\"\"\"SELECT \"chuckJokes\".jokes, \"chuckRating\".rating FROM \"chuckJokes\"\n",
    "                INNER JOIN \"chuckRating\" ON \"chuckJokes\".id = \"chuckRating\".id;\"\"\")\n",
    "    dfLenJoke = pd.read_sql_query(sql, conn)\n",
    "    \n",
    "    dfLenJoke[\"lenJoke\"] = dfLenJoke[\"jokes\"].apply(lambda x: len(x))\n",
    "    \n",
    "    print(dfLenJoke.describe())\n",
    "    \n",
    "    dfLenJoke[\"repartitionLen\"] = pd.qcut(x = dfLenJoke[\"lenJoke\"], q = 10, labels=range(10))\n",
    "    \n",
    "    dfMean = dfLenJoke.groupby(['repartitionLen']).mean()\n",
    "    \n",
    "    len_fig, len_ax = plt.subplots()\n",
    "    sns.barplot(x= round(dfMean[\"lenJoke\"]), y = dfMean[\"rating\"])\n",
    "    \n",
    "    %matplotlib inline"
   ]
  },
  {
   "cell_type": "code",
   "execution_count": 7,
   "metadata": {
    "scrolled": false
   },
   "outputs": [
    {
     "name": "stdout",
     "output_type": "stream",
     "text": [
      "Watcha wanna see?\n",
      "-----------------\n",
      "Input -mining-, -report-, -graphs- or -exit- to end : graphs\n",
      "            rating\n",
      "count  5308.000000\n",
      "mean      3.250825\n",
      "std       0.551979\n",
      "min       1.280000\n",
      "25%       2.890000\n",
      "50%       3.320000\n",
      "75%       3.690000\n",
      "max       4.120000\n",
      "            rating      lenJoke\n",
      "count  5308.000000  5308.000000\n",
      "mean      3.250825    76.718161\n",
      "std       0.551979    41.942275\n",
      "min       1.280000    17.000000\n",
      "25%       2.890000    49.000000\n",
      "50%       3.320000    66.000000\n",
      "75%       3.690000    92.000000\n",
      "max       4.120000   708.000000\n",
      "Input -mining-, -report-, -graphs- or -exit- to end : exit\n",
      "Exit? y/n \n",
      "y\n",
      "Exiting program\n"
     ]
    },
    {
     "ename": "NameError",
     "evalue": "name 'sys' is not defined",
     "output_type": "error",
     "traceback": [
      "\u001b[1;31m---------------------------------------------------------------------------\u001b[0m",
      "\u001b[1;31mNameError\u001b[0m                                 Traceback (most recent call last)",
      "\u001b[1;32m<ipython-input-7-ddf7e5a94fae>\u001b[0m in \u001b[0;36m<module>\u001b[1;34m\u001b[0m\n\u001b[0;32m     29\u001b[0m             \u001b[1;32mif\u001b[0m\u001b[1;33m(\u001b[0m\u001b[0mexitProg\u001b[0m \u001b[1;33m==\u001b[0m \u001b[1;34m\"y\"\u001b[0m\u001b[1;33m)\u001b[0m\u001b[1;33m:\u001b[0m\u001b[1;33m\u001b[0m\u001b[1;33m\u001b[0m\u001b[0m\n\u001b[0;32m     30\u001b[0m                 \u001b[0mprint\u001b[0m\u001b[1;33m(\u001b[0m\u001b[1;34m\"Exiting program\"\u001b[0m\u001b[1;33m)\u001b[0m\u001b[1;33m\u001b[0m\u001b[1;33m\u001b[0m\u001b[0m\n\u001b[1;32m---> 31\u001b[1;33m                 \u001b[0msys\u001b[0m\u001b[1;33m.\u001b[0m\u001b[0mexit\u001b[0m\u001b[1;33m(\u001b[0m\u001b[1;36m0\u001b[0m\u001b[1;33m)\u001b[0m\u001b[1;33m\u001b[0m\u001b[1;33m\u001b[0m\u001b[0m\n\u001b[0m\u001b[0;32m     32\u001b[0m             \u001b[1;32melif\u001b[0m\u001b[1;33m(\u001b[0m\u001b[0mexitProg\u001b[0m \u001b[1;33m==\u001b[0m \u001b[1;34m\"n\"\u001b[0m\u001b[1;33m)\u001b[0m\u001b[1;33m:\u001b[0m\u001b[1;33m\u001b[0m\u001b[1;33m\u001b[0m\u001b[0m\n\u001b[0;32m     33\u001b[0m                 \u001b[1;32mbreak\u001b[0m\u001b[1;33m\u001b[0m\u001b[1;33m\u001b[0m\u001b[0m\n",
      "\u001b[1;31mNameError\u001b[0m: name 'sys' is not defined"
     ]
    },
    {
     "data": {
      "image/png": "[encoded data removed]",
      "text/plain": [
       "<Figure size 432x288 with 1 Axes>"
      ]
     },
     "metadata": {
      "needs_background": "light"
     },
     "output_type": "display_data"
    },
    {
     "data": {
      "image/png": "[encoded data removed]",
      "text/plain": [
       "<Figure size 432x288 with 1 Axes>"
      ]
     },
     "metadata": {
      "needs_background": "light"
     },
     "output_type": "display_data"
    },
    {
     "data": {
      "image/png": "[encoded data removed]",
      "text/plain": [
       "<Figure size 432x288 with 1 Axes>"
      ]
     },
     "metadata": {
      "needs_background": "light"
     },
     "output_type": "display_data"
    }
   ],
   "source": [
    "# -*- coding: utf-8 -*-\n",
    "\"\"\"\n",
    "Created on Mon Dec 14 16:16:20 2020\n",
    "\n",
    "@author: Ga\n",
    "\"\"\"\n",
    "\n",
    "import report\n",
    "import graphs\n",
    "import textMining\n",
    "\n",
    "print(\"Watcha wanna see?\")\n",
    "print(\"-----------------\")\n",
    "\n",
    "while(True):\n",
    "    action = input(\"Input -mining-, -report-, -graphs- or -exit- to end : \")\n",
    "    if(action == \"mining\"):\n",
    "        textMining.executeMining()\n",
    "        continue\n",
    "    elif(action == \"report\"):\n",
    "        report.executeReport()\n",
    "        continue\n",
    "    elif(action == \"graphs\"):\n",
    "        graphs.executeGraphs()\n",
    "        continue\n",
    "    elif(action == \"exit\"):\n",
    "        while(True):\n",
    "            exitProg = input(\"Exit? y/n \\n\")\n",
    "            if(exitProg == \"y\"):\n",
    "                print(\"Exiting program\")\n",
    "                sys.exit(0)\n",
    "            elif(exitProg == \"n\"):\n",
    "                break\n",
    "    else:\n",
    "        print(\"Try again : \")\n",
    "        continue"
   ]
  }
 ],
 "metadata": {
  "kernelspec": {
   "display_name": "Python 3",
   "language": "python",
   "name": "python3"
  },
  "language_info": {
   "codemirror_mode": {
    "name": "ipython",
    "version": 3
   },
   "file_extension": ".py",
   "mimetype": "text/x-python",
   "name": "python",
   "nbconvert_exporter": "python",
   "pygments_lexer": "ipython3",
   "version": "3.8.3"
  }
 },
 "nbformat": 4,
 "nbformat_minor": 4
}
